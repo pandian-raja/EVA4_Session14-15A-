{
  "nbformat": 4,
  "nbformat_minor": 0,
  "metadata": {
    "colab": {
      "name": "DenseFinalOutput.ipynb",
      "provenance": [],
      "collapsed_sections": [],
      "machine_shape": "hm",
      "authorship_tag": "ABX9TyNu5WcKBlq/In9+xn2ZdPxZ",
      "include_colab_link": true
    },
    "kernelspec": {
      "name": "python3",
      "display_name": "Python 3"
    },
    "accelerator": "GPU"
  },
  "cells": [
    {
      "cell_type": "markdown",
      "metadata": {
        "id": "view-in-github",
        "colab_type": "text"
      },
      "source": [
        "<a href=\"https://colab.research.google.com/github/pandian-raja/EVA4_Session14-15A-/blob/master/DenseFinalOutput.ipynb\" target=\"_parent\"><img src=\"https://colab.research.google.com/assets/colab-badge.svg\" alt=\"Open In Colab\"/></a>"
      ]
    },
    {
      "cell_type": "code",
      "metadata": {
        "id": "4DxrKneBgtVJ",
        "colab_type": "code",
        "outputId": "2e1654bf-368e-4bbe-8964-44003b5ffea5",
        "colab": {
          "base_uri": "https://localhost:8080/",
          "height": 102
        }
      },
      "source": [
        "!git clone https://github.com/ialhashim/DenseDepth.git"
      ],
      "execution_count": 1,
      "outputs": [
        {
          "output_type": "stream",
          "text": [
            "Cloning into 'DenseDepth'...\n",
            "remote: Enumerating objects: 235, done.\u001b[K\n",
            "remote: Total 235 (delta 0), reused 0 (delta 0), pack-reused 235\u001b[K\n",
            "Receiving objects: 100% (235/235), 11.80 MiB | 34.91 MiB/s, done.\n",
            "Resolving deltas: 100% (115/115), done.\n"
          ],
          "name": "stdout"
        }
      ]
    },
    {
      "cell_type": "code",
      "metadata": {
        "id": "5bUoeu9Tl0dJ",
        "colab_type": "code",
        "colab": {}
      },
      "source": [
        "from PIL import Image\n",
        "import numpy as np\n",
        "from timeit import default_timer as timer\n",
        "import datetime\n",
        "import shutil\n",
        "import zipfile\n",
        "from zipfile import ZipFile \n",
        "import numpy as np\n",
        "from PIL import Image\n",
        "\n",
        "\n"
      ],
      "execution_count": 0,
      "outputs": []
    },
    {
      "cell_type": "code",
      "metadata": {
        "id": "br4vgrgWgx-r",
        "colab_type": "code",
        "outputId": "f5eae3d4-e93e-4977-97fb-34a2e98d9c46",
        "colab": {
          "base_uri": "https://localhost:8080/",
          "height": 204
        }
      },
      "source": [
        "!wget https://s3-eu-west-1.amazonaws.com/densedepth/nyu.h5 -O ./DenseDepth/nyu.h5"
      ],
      "execution_count": 2,
      "outputs": [
        {
          "output_type": "stream",
          "text": [
            "--2020-06-03 09:47:52--  https://s3-eu-west-1.amazonaws.com/densedepth/nyu.h5\n",
            "Resolving s3-eu-west-1.amazonaws.com (s3-eu-west-1.amazonaws.com)... 52.218.80.178\n",
            "Connecting to s3-eu-west-1.amazonaws.com (s3-eu-west-1.amazonaws.com)|52.218.80.178|:443... connected.\n",
            "HTTP request sent, awaiting response... 200 OK\n",
            "Length: 172897376 (165M) [application/h5]\n",
            "Saving to: ‘./DenseDepth/nyu.h5’\n",
            "\n",
            "./DenseDepth/nyu.h5 100%[===================>] 164.89M  24.4MB/s    in 7.4s    \n",
            "\n",
            "2020-06-03 09:47:59 (22.2 MB/s) - ‘./DenseDepth/nyu.h5’ saved [172897376/172897376]\n",
            "\n"
          ],
          "name": "stdout"
        }
      ]
    },
    {
      "cell_type": "code",
      "metadata": {
        "id": "u6RuKE4FgzTW",
        "colab_type": "code",
        "outputId": "3b1d7996-3626-4140-84c2-8bec047cf99c",
        "colab": {
          "base_uri": "https://localhost:8080/",
          "height": 122
        }
      },
      "source": [
        "from google.colab import drive\n",
        "drive.mount('/content/drive')"
      ],
      "execution_count": 6,
      "outputs": [
        {
          "output_type": "stream",
          "text": [
            "Go to this URL in a browser: https://accounts.google.com/o/oauth2/auth?client_id=947318989803-6bn6qk8qdgf4n4g3pfee6491hc0brc4i.apps.googleusercontent.com&redirect_uri=urn%3aietf%3awg%3aoauth%3a2.0%3aoob&response_type=code&scope=email%20https%3a%2f%2fwww.googleapis.com%2fauth%2fdocs.test%20https%3a%2f%2fwww.googleapis.com%2fauth%2fdrive%20https%3a%2f%2fwww.googleapis.com%2fauth%2fdrive.photos.readonly%20https%3a%2f%2fwww.googleapis.com%2fauth%2fpeopleapi.readonly\n",
            "\n",
            "Enter your authorization code:\n",
            "··········\n",
            "Mounted at /content/drive\n"
          ],
          "name": "stdout"
        }
      ]
    },
    {
      "cell_type": "code",
      "metadata": {
        "id": "QPwjK5HVq2sl",
        "colab_type": "code",
        "colab": {}
      },
      "source": [
        "zip = ZipFile('/content/drive/My Drive/copy_depth_fg_bg.zip')\n",
        "zip.extractall('/tmp')"
      ],
      "execution_count": 0,
      "outputs": []
    },
    {
      "cell_type": "code",
      "metadata": {
        "id": "5VFJoUaOg7w2",
        "colab_type": "code",
        "outputId": "5f782737-89ed-4e37-b3cb-28d6093af2fe",
        "colab": {
          "base_uri": "https://localhost:8080/",
          "height": 51
        }
      },
      "source": [
        "import os\n",
        "import glob\n",
        "import argparse\n",
        "import matplotlib\n",
        "\n",
        "# Keras / TensorFlow\n",
        "os.environ['TF_CPP_MIN_LOG_LEVEL'] = '5'\n",
        "from keras.models import load_model\n",
        "from DenseDepth.layers import BilinearUpSampling2D\n",
        "from DenseDepth.utils import predict, load_images, display_images\n",
        "from matplotlib import pyplot as plt\n",
        "\n",
        "# Argument Parser\n",
        "parser = argparse.ArgumentParser(description='High Quality Monocular Depth Estimation via Transfer Learning')\n",
        "parser.add_argument('--model', default='DenseDepth/nyu.h5', type=str, help='Trained Keras model file.')\n",
        "parser.add_argument('--input', default='DenseDepth/examples/*.png', type=str, help='Input filename or folder.')\n",
        "# args = parser.parse_args()\n",
        "\n",
        "args = parser.parse_args(args=[])\n",
        "\n",
        "# Custom object needed for inference and training\n",
        "custom_objects = {'BilinearUpSampling2D': BilinearUpSampling2D, 'depth_loss_function': None}\n",
        "\n",
        "print('Loading model...')\n",
        "\n",
        "# Load model into GPU / CPU\n",
        "model = load_model(args.model, custom_objects=custom_objects, compile=False)\n",
        "def to_multichannels(i):\n",
        "    if i.shape[2] == 3: return i\n",
        "    i = i[:,:,0]\n",
        "    return np.stack((i,i,i), axis=2)"
      ],
      "execution_count": 4,
      "outputs": [
        {
          "output_type": "stream",
          "text": [
            "Using TensorFlow backend.\n"
          ],
          "name": "stderr"
        },
        {
          "output_type": "stream",
          "text": [
            "Loading model...\n"
          ],
          "name": "stdout"
        }
      ]
    },
    {
      "cell_type": "code",
      "metadata": {
        "id": "BAFJfH_FCcuY",
        "colab_type": "code",
        "outputId": "3f85f197-7327-47c7-dceb-6691ee23be42",
        "colab": {
          "base_uri": "https://localhost:8080/",
          "height": 1000
        }
      },
      "source": [
        "folder_path = '/tmp/fg_bg/'\n",
        "globalstart = timer()\n",
        "fincount =1\n",
        "out_zip =  ZipFile('depth_fin_400k.zip', mode='a')\n",
        "for imageBatch in range(100):\n",
        "    print('Batch No : '+str(imageBatch))\n",
        "    loaded_images = []\n",
        "    rangestart = imageBatch*4000\n",
        "    rangestart +=1\n",
        "    start = timer()\n",
        "    for imgc in range(rangestart,rangestart+4000):\n",
        "        x = np.clip(np.asarray(Image.open( folder_path+str(imgc)+'.jpeg' ), dtype=float) / 255, 0, 1)\n",
        "        loaded_images.append(x)\n",
        "    loaded_images = np.stack(loaded_images, axis=0)  \n",
        "    print('Loading Image time : '+str(timer() - start))\n",
        "    start = timer()\n",
        "    outputs = predict(model, loaded_images,batch_size=256)\n",
        "    print('prediction time : '+str(timer() - start))\n",
        "    start = timer()\n",
        "    for x in range(outputs.shape[0]):\n",
        "        montage = to_multichannels(outputs[x])\n",
        "        im = Image.fromarray(np.uint8(montage*255))\n",
        "        im.save('depth.jpeg', format=\"jpeg\", optimize=True, quality=95)\n",
        "        out_zip.write('depth.jpeg', f'depth/'+str(fincount)+'.jpeg')\n",
        "        fincount +=1\n",
        "    print('Image zip/saving time : '+str(timer() - start))\n",
        "out_zip.close()\n",
        "print('Total time : '+str(timer() - globalstart))"
      ],
      "execution_count": 13,
      "outputs": [
        {
          "output_type": "stream",
          "text": [
            "Batch No : 0\n",
            "Loading Image time : 36.132210203\n",
            "prediction time : 53.06883398500008\n",
            "Image zip/saving time : 3.8980215230000113\n",
            "Batch No : 1\n",
            "Loading Image time : 26.69180743000004\n",
            "prediction time : 27.659211486999993\n",
            "Image zip/saving time : 4.00977796899997\n",
            "Batch No : 2\n",
            "Loading Image time : 23.769023500000003\n",
            "prediction time : 27.65870698399999\n",
            "Image zip/saving time : 3.8811908540000104\n",
            "Batch No : 3\n",
            "Loading Image time : 22.204700523000042\n",
            "prediction time : 27.678284183000073\n",
            "Image zip/saving time : 4.531788448000043\n",
            "Batch No : 4\n",
            "Loading Image time : 21.703550304000032\n",
            "prediction time : 27.701897020999922\n",
            "Image zip/saving time : 3.872721535999972\n",
            "Batch No : 5\n",
            "Loading Image time : 22.042337733999943\n",
            "prediction time : 27.69335278799997\n",
            "Image zip/saving time : 3.978099752999924\n",
            "Batch No : 6\n",
            "Loading Image time : 21.333835162000014\n",
            "prediction time : 27.71501080099995\n",
            "Image zip/saving time : 3.694285370999978\n",
            "Batch No : 7\n",
            "Loading Image time : 21.322349265999947\n",
            "prediction time : 27.73650399899998\n",
            "Image zip/saving time : 3.889187211000035\n",
            "Batch No : 8\n",
            "Loading Image time : 21.06440938300011\n",
            "prediction time : 27.72488948399996\n",
            "Image zip/saving time : 3.984543161000147\n",
            "Batch No : 9\n",
            "Loading Image time : 21.470362581000018\n",
            "prediction time : 27.72823156300001\n",
            "Image zip/saving time : 3.9780853919999117\n",
            "Batch No : 10\n",
            "Loading Image time : 20.89559422000002\n",
            "prediction time : 27.72737907999999\n",
            "Image zip/saving time : 3.8623258780000924\n",
            "Batch No : 11\n",
            "Loading Image time : 21.785899370999914\n",
            "prediction time : 27.73796346899985\n",
            "Image zip/saving time : 3.9087556580000182\n",
            "Batch No : 12\n",
            "Loading Image time : 20.94993860999989\n",
            "prediction time : 27.788921653000216\n",
            "Image zip/saving time : 3.9660855019999417\n",
            "Batch No : 13\n",
            "Loading Image time : 21.731947435999928\n",
            "prediction time : 27.732103422000137\n",
            "Image zip/saving time : 3.9537010799999734\n",
            "Batch No : 14\n",
            "Loading Image time : 21.388121688999945\n",
            "prediction time : 27.76337608599988\n",
            "Image zip/saving time : 4.011190660000011\n",
            "Batch No : 15\n",
            "Loading Image time : 21.391264379000177\n",
            "prediction time : 27.712220706999915\n",
            "Image zip/saving time : 3.782125877999988\n",
            "Batch No : 16\n",
            "Loading Image time : 20.89548344500008\n",
            "prediction time : 27.73460269799989\n",
            "Image zip/saving time : 3.9441173250002066\n",
            "Batch No : 17\n",
            "Loading Image time : 21.788366273000065\n",
            "prediction time : 27.698979432999977\n",
            "Image zip/saving time : 3.7737285800001246\n",
            "Batch No : 18\n",
            "Loading Image time : 21.149357065999993\n",
            "prediction time : 27.76417234900009\n",
            "Image zip/saving time : 3.7398242869999194\n",
            "Batch No : 19\n",
            "Loading Image time : 21.555490947999942\n",
            "prediction time : 27.710859903000028\n",
            "Image zip/saving time : 4.012554146999946\n",
            "Batch No : 20\n",
            "Loading Image time : 21.058890059000078\n",
            "prediction time : 27.768451247999792\n",
            "Image zip/saving time : 3.7726708269999563\n",
            "Batch No : 21\n",
            "Loading Image time : 21.189320479000116\n",
            "prediction time : 27.746065760999954\n",
            "Image zip/saving time : 3.9010879329998716\n",
            "Batch No : 22\n",
            "Loading Image time : 21.24732231100006\n",
            "prediction time : 27.787225671999977\n",
            "Image zip/saving time : 3.896310871999958\n",
            "Batch No : 23\n",
            "Loading Image time : 21.554687421999915\n",
            "prediction time : 27.724048359000108\n",
            "Image zip/saving time : 3.885033435999958\n",
            "Batch No : 24\n",
            "Loading Image time : 20.75309435400004\n",
            "prediction time : 27.779964900000095\n",
            "Image zip/saving time : 3.8402050849999796\n",
            "Batch No : 25\n",
            "Loading Image time : 21.589498523999964\n",
            "prediction time : 27.73701857700007\n",
            "Image zip/saving time : 3.9699154330000965\n",
            "Batch No : 26\n",
            "Loading Image time : 21.332520256999942\n",
            "prediction time : 27.778898560000016\n",
            "Image zip/saving time : 3.721787524999854\n",
            "Batch No : 27\n",
            "Loading Image time : 21.160910994999995\n",
            "prediction time : 27.728482373000134\n",
            "Image zip/saving time : 3.6620094040004005\n",
            "Batch No : 28\n",
            "Loading Image time : 20.846744021000177\n",
            "prediction time : 27.763680068999747\n",
            "Image zip/saving time : 3.828085101000397\n",
            "Batch No : 29\n",
            "Loading Image time : 21.509124573999998\n",
            "prediction time : 27.732163497999863\n",
            "Image zip/saving time : 3.7102321300003496\n",
            "Batch No : 30\n",
            "Loading Image time : 20.92913555799987\n",
            "prediction time : 27.788729087999855\n",
            "Image zip/saving time : 3.6843894690000525\n",
            "Batch No : 31\n",
            "Loading Image time : 21.616919214000063\n",
            "prediction time : 27.698129349999817\n",
            "Image zip/saving time : 3.993738439000026\n",
            "Batch No : 32\n",
            "Loading Image time : 20.60951650700008\n",
            "prediction time : 27.749337158000344\n",
            "Image zip/saving time : 3.8099457879998226\n",
            "Batch No : 33\n",
            "Loading Image time : 21.86466358200005\n",
            "prediction time : 27.711713565999617\n",
            "Image zip/saving time : 3.952711964000173\n",
            "Batch No : 34\n",
            "Loading Image time : 21.239070494000316\n",
            "prediction time : 27.75692032500001\n",
            "Image zip/saving time : 3.8322306960003516\n",
            "Batch No : 35\n",
            "Loading Image time : 22.143903173000126\n",
            "prediction time : 27.696769755000332\n",
            "Image zip/saving time : 3.845893463000266\n",
            "Batch No : 36\n",
            "Loading Image time : 21.768160824000006\n",
            "prediction time : 27.763047752999682\n",
            "Image zip/saving time : 4.118420014999629\n",
            "Batch No : 37\n",
            "Loading Image time : 23.02033658900018\n",
            "prediction time : 27.731715468999937\n",
            "Image zip/saving time : 3.909113255000193\n",
            "Batch No : 38\n",
            "Loading Image time : 22.194074477999948\n",
            "prediction time : 27.78161867200015\n",
            "Image zip/saving time : 3.819409758999882\n",
            "Batch No : 39\n",
            "Loading Image time : 22.717289505999815\n",
            "prediction time : 27.725828483999976\n",
            "Image zip/saving time : 3.8145570080000653\n",
            "Batch No : 40\n",
            "Loading Image time : 22.716879815000084\n",
            "prediction time : 27.767596440000034\n",
            "Image zip/saving time : 3.857281430999592\n",
            "Batch No : 41\n",
            "Loading Image time : 22.920048728999973\n",
            "prediction time : 27.732507082999746\n",
            "Image zip/saving time : 3.9516308360002768\n",
            "Batch No : 42\n",
            "Loading Image time : 22.182649418999972\n",
            "prediction time : 27.775793267000154\n",
            "Image zip/saving time : 3.9766719839999496\n",
            "Batch No : 43\n",
            "Loading Image time : 22.93357155700005\n",
            "prediction time : 27.706151843000043\n",
            "Image zip/saving time : 4.016381207999984\n",
            "Batch No : 44\n",
            "Loading Image time : 22.210625337999772\n",
            "prediction time : 27.76058390800017\n",
            "Image zip/saving time : 3.8243976670000848\n",
            "Batch No : 45\n",
            "Loading Image time : 22.807407649999732\n",
            "prediction time : 27.71170814099969\n",
            "Image zip/saving time : 3.806798446999892\n",
            "Batch No : 46\n",
            "Loading Image time : 21.560258587000135\n",
            "prediction time : 27.741159501999846\n",
            "Image zip/saving time : 3.9385014959998443\n",
            "Batch No : 47\n",
            "Loading Image time : 22.150528655000016\n",
            "prediction time : 27.766209907999837\n",
            "Image zip/saving time : 3.901470356000118\n",
            "Batch No : 48\n",
            "Loading Image time : 22.16548299599981\n",
            "prediction time : 27.775639228999808\n",
            "Image zip/saving time : 3.6746014520003882\n",
            "Batch No : 49\n",
            "Loading Image time : 22.358700451000004\n",
            "prediction time : 27.736425870999938\n",
            "Image zip/saving time : 3.789431580999917\n",
            "Batch No : 50\n",
            "Loading Image time : 21.359580812999866\n",
            "prediction time : 27.77175940999996\n",
            "Image zip/saving time : 3.710530370000015\n",
            "Batch No : 51\n",
            "Loading Image time : 22.216829481999866\n",
            "prediction time : 27.78066998999975\n",
            "Image zip/saving time : 3.845687433999956\n",
            "Batch No : 52\n",
            "Loading Image time : 20.937335289999737\n",
            "prediction time : 27.739425238999956\n",
            "Image zip/saving time : 3.7793053160003183\n",
            "Batch No : 53\n",
            "Loading Image time : 22.58193313599986\n",
            "prediction time : 27.768797834999987\n",
            "Image zip/saving time : 3.741692164000142\n",
            "Batch No : 54\n",
            "Loading Image time : 21.55953809599987\n",
            "prediction time : 27.75147810699991\n",
            "Image zip/saving time : 3.77848172899985\n",
            "Batch No : 55\n",
            "Loading Image time : 22.163032106000173\n",
            "prediction time : 27.76229227499971\n",
            "Image zip/saving time : 3.8638310890000866\n",
            "Batch No : 56\n",
            "Loading Image time : 21.18801643400002\n",
            "prediction time : 27.802477585999895\n",
            "Image zip/saving time : 3.8551604260001113\n",
            "Batch No : 57\n",
            "Loading Image time : 22.086723737000284\n",
            "prediction time : 27.763488652999968\n",
            "Image zip/saving time : 3.906219469000007\n",
            "Batch No : 58\n",
            "Loading Image time : 21.028192120999847\n",
            "prediction time : 27.79458307999994\n",
            "Image zip/saving time : 3.761507321999943\n",
            "Batch No : 59\n",
            "Loading Image time : 21.808365920999677\n",
            "prediction time : 27.743704119000085\n",
            "Image zip/saving time : 3.925124352000239\n",
            "Batch No : 60\n",
            "Loading Image time : 21.13201545999982\n",
            "prediction time : 27.755808524999793\n",
            "Image zip/saving time : 3.913140918999943\n",
            "Batch No : 61\n",
            "Loading Image time : 21.913147985999785\n",
            "prediction time : 27.75365047899959\n",
            "Image zip/saving time : 3.7667236799998136\n",
            "Batch No : 62\n",
            "Loading Image time : 20.755400191999797\n",
            "prediction time : 27.752883141999973\n",
            "Image zip/saving time : 3.769381650000014\n",
            "Batch No : 63\n",
            "Loading Image time : 21.82408773399993\n",
            "prediction time : 27.756454256000325\n",
            "Image zip/saving time : 3.677443613000378\n",
            "Batch No : 64\n",
            "Loading Image time : 21.040399950999472\n",
            "prediction time : 27.775327543999992\n",
            "Image zip/saving time : 3.6971021669996844\n",
            "Batch No : 65\n",
            "Loading Image time : 22.39651843499996\n",
            "prediction time : 27.77525253299973\n",
            "Image zip/saving time : 3.7531212710000545\n",
            "Batch No : 66\n",
            "Loading Image time : 21.047461125000154\n",
            "prediction time : 27.777823239999634\n",
            "Image zip/saving time : 3.7996536500004368\n",
            "Batch No : 67\n",
            "Loading Image time : 22.103696250999747\n",
            "prediction time : 27.783042920999833\n",
            "Image zip/saving time : 3.8116034770000624\n",
            "Batch No : 68\n",
            "Loading Image time : 21.16305715999988\n",
            "prediction time : 27.80883778200041\n",
            "Image zip/saving time : 3.882068007000271\n",
            "Batch No : 69\n",
            "Loading Image time : 22.374488387000383\n",
            "prediction time : 27.769956711000304\n",
            "Image zip/saving time : 3.8904930569997305\n",
            "Batch No : 70\n",
            "Loading Image time : 21.601132691000203\n",
            "prediction time : 27.777207809000174\n",
            "Image zip/saving time : 3.9095158740001352\n",
            "Batch No : 71\n",
            "Loading Image time : 22.787277116999576\n",
            "prediction time : 27.771905890999733\n",
            "Image zip/saving time : 3.819356573000732\n",
            "Batch No : 72\n",
            "Loading Image time : 21.628418311000132\n",
            "prediction time : 27.79701720600042\n",
            "Image zip/saving time : 3.8614084729997558\n",
            "Batch No : 73\n",
            "Loading Image time : 22.457335576999867\n",
            "prediction time : 27.769994565999696\n",
            "Image zip/saving time : 3.93187665700043\n",
            "Batch No : 74\n",
            "Loading Image time : 21.605176854999627\n",
            "prediction time : 27.782713450999836\n",
            "Image zip/saving time : 3.798026243000095\n",
            "Batch No : 75\n",
            "Loading Image time : 22.681443538000167\n",
            "prediction time : 27.766335016000085\n",
            "Image zip/saving time : 3.868273527999918\n",
            "Batch No : 76\n",
            "Loading Image time : 21.3782312809999\n",
            "prediction time : 27.780322079999678\n",
            "Image zip/saving time : 3.9432045820003623\n",
            "Batch No : 77\n",
            "Loading Image time : 22.65357580899945\n",
            "prediction time : 27.76182419199995\n",
            "Image zip/saving time : 3.8667162880001342\n",
            "Batch No : 78\n",
            "Loading Image time : 22.915000064000196\n",
            "prediction time : 27.752108758999384\n",
            "Image zip/saving time : 3.9784343530000115\n",
            "Batch No : 79\n",
            "Loading Image time : 22.950296951999917\n",
            "prediction time : 27.794730196999808\n",
            "Image zip/saving time : 3.811863825999353\n",
            "Batch No : 80\n",
            "Loading Image time : 21.820015618999605\n",
            "prediction time : 27.801168828999835\n",
            "Image zip/saving time : 4.0307634690007035\n",
            "Batch No : 81\n",
            "Loading Image time : 23.23141670899986\n",
            "prediction time : 27.77873975300008\n",
            "Image zip/saving time : 3.924608170999818\n",
            "Batch No : 82\n",
            "Loading Image time : 21.95418052000059\n",
            "prediction time : 27.777968139999757\n",
            "Image zip/saving time : 3.9757200640005976\n",
            "Batch No : 83\n",
            "Loading Image time : 23.042360874000224\n",
            "prediction time : 27.770380932999615\n",
            "Image zip/saving time : 3.949861877999865\n",
            "Batch No : 84\n",
            "Loading Image time : 22.20029955999962\n",
            "prediction time : 27.777466062999338\n",
            "Image zip/saving time : 4.761307348999253\n",
            "Batch No : 85\n",
            "Loading Image time : 23.02825012899939\n",
            "prediction time : 27.77122313200016\n",
            "Image zip/saving time : 4.019327928999701\n",
            "Batch No : 86\n",
            "Loading Image time : 22.358528785999624\n",
            "prediction time : 27.78800031100036\n",
            "Image zip/saving time : 3.960399968999809\n",
            "Batch No : 87\n",
            "Loading Image time : 23.397234447999836\n",
            "prediction time : 27.788206332999835\n",
            "Image zip/saving time : 3.9923095610001837\n",
            "Batch No : 88\n",
            "Loading Image time : 22.146860260999347\n",
            "prediction time : 27.736948429000222\n",
            "Image zip/saving time : 3.971953814000699\n",
            "Batch No : 89\n",
            "Loading Image time : 23.55337578200033\n",
            "prediction time : 27.7616261940002\n",
            "Image zip/saving time : 3.862523264999254\n",
            "Batch No : 90\n",
            "Loading Image time : 22.18002734000038\n",
            "prediction time : 27.751131089999944\n",
            "Image zip/saving time : 3.881917607000105\n",
            "Batch No : 91\n",
            "Loading Image time : 23.516694936999556\n",
            "prediction time : 27.74837647000004\n",
            "Image zip/saving time : 4.038054419999753\n",
            "Batch No : 92\n",
            "Loading Image time : 22.51927373200033\n",
            "prediction time : 27.743766771000082\n",
            "Image zip/saving time : 3.926543622999816\n",
            "Batch No : 93\n",
            "Loading Image time : 22.754062766999596\n",
            "prediction time : 27.743802502999642\n",
            "Image zip/saving time : 3.9457266210001762\n",
            "Batch No : 94\n",
            "Loading Image time : 22.238406221999867\n",
            "prediction time : 27.73636534200068\n",
            "Image zip/saving time : 3.885254786000587\n",
            "Batch No : 95\n",
            "Loading Image time : 23.413837315999444\n",
            "prediction time : 27.738713765000284\n",
            "Image zip/saving time : 4.037155546000577\n",
            "Batch No : 96\n",
            "Loading Image time : 21.98893788800069\n",
            "prediction time : 27.72018689000015\n",
            "Image zip/saving time : 3.863860248000492\n",
            "Batch No : 97\n",
            "Loading Image time : 23.393593347000206\n",
            "prediction time : 27.75214896399939\n",
            "Image zip/saving time : 4.013220108000496\n",
            "Batch No : 98\n",
            "Loading Image time : 22.052639423000073\n",
            "prediction time : 27.71090283600006\n",
            "Image zip/saving time : 3.900192817000061\n",
            "Batch No : 99\n",
            "Loading Image time : 23.377242839000246\n",
            "prediction time : 27.755736975999753\n",
            "Image zip/saving time : 4.050893694000479\n",
            "Total time : 5408.112294665\n"
          ],
          "name": "stdout"
        }
      ]
    },
    {
      "cell_type": "code",
      "metadata": {
        "id": "VrCwf5lq77qp",
        "colab_type": "code",
        "colab": {
          "base_uri": "https://localhost:8080/",
          "height": 34
        },
        "outputId": "234e224f-c4d6-4ea4-d867-07e5d1aaf82b"
      },
      "source": [
        "shutil.move('depth_fin_400k.zip','/content/drive/My Drive/depth_fin_400k.zip')"
      ],
      "execution_count": 16,
      "outputs": [
        {
          "output_type": "execute_result",
          "data": {
            "text/plain": [
              "'/content/drive/My Drive/depth_fin_400k.zip'"
            ]
          },
          "metadata": {
            "tags": []
          },
          "execution_count": 16
        }
      ]
    },
    {
      "cell_type": "code",
      "metadata": {
        "id": "fwbVqR69N5KQ",
        "colab_type": "code",
        "colab": {
          "base_uri": "https://localhost:8080/",
          "height": 51
        },
        "outputId": "1e8bd465-53aa-43db-eaeb-cba9e646a010"
      },
      "source": [
        "traindata = torchvision.datasets.ImageFolder( 'fg_bg1/fg_bg/', transforms.ToTensor())\n",
        "image_means = torch.stack([t.mean(1).mean(1) for t, c in traindata])\n",
        "\n",
        "print(image_means.mean(0))\n",
        "print(image_means.std(0))"
      ],
      "execution_count": 80,
      "outputs": [
        {
          "output_type": "stream",
          "text": [
            "tensor([0.5373, 0.4887, 0.4405])\n",
            "tensor([0.1111, 0.1161, 0.1190])\n"
          ],
          "name": "stdout"
        }
      ]
    },
    {
      "cell_type": "code",
      "metadata": {
        "id": "xYGrcqKzOCDI",
        "colab_type": "code",
        "colab": {
          "base_uri": "https://localhost:8080/",
          "height": 51
        },
        "outputId": "a6c9d92e-f12b-4a94-aa89-434c58a48944"
      },
      "source": [
        "maskdata = torchvision.datasets.ImageFolder( 'mask_fg_bg1/mask_fg_bg/', transforms.ToTensor())\n",
        "mask = torch.stack([t.mean(1).mean(1) for t, c in maskdata])\n",
        "\n",
        "print(mask.mean(0))\n",
        "print(mask.std(0))"
      ],
      "execution_count": 81,
      "outputs": [
        {
          "output_type": "stream",
          "text": [
            "tensor([0.0352, 0.0353, 0.0353])\n",
            "tensor([0.0178, 0.0179, 0.0180])\n"
          ],
          "name": "stdout"
        }
      ]
    },
    {
      "cell_type": "code",
      "metadata": {
        "id": "X3q0KrECODvJ",
        "colab_type": "code",
        "colab": {
          "base_uri": "https://localhost:8080/",
          "height": 51
        },
        "outputId": "e73c3456-7393-457d-b883-89a0cd49196a"
      },
      "source": [
        "depthdata = torchvision.datasets.ImageFolder( 'depth1/depth/', transforms.ToTensor())\n",
        "depth = torch.stack([t.mean(1).mean(1) for t, c in depthdata])\n",
        "print(depth.mean(0))\n",
        "print(depth.std(0))"
      ],
      "execution_count": 82,
      "outputs": [
        {
          "output_type": "stream",
          "text": [
            "tensor([0.3627, 0.3627, 0.3627])\n",
            "tensor([0.0827, 0.0827, 0.0827])\n"
          ],
          "name": "stdout"
        }
      ]
    },
    {
      "cell_type": "code",
      "metadata": {
        "id": "WWa-iHnqOPAx",
        "colab_type": "code",
        "colab": {
          "base_uri": "https://localhost:8080/",
          "height": 34
        },
        "outputId": "be2cf300-ca36-41b2-fde4-125b4081b4c4"
      },
      "source": [
        "\n",
        "bgdata = torchvision.datasets.ImageFolder( 'bg1/', transforms.ToTensor())\n",
        "bg = torch.stack([t.mean(1).mean(1) for t, c in depthdata])\n",
        "bg.mean(0)\n"
      ],
      "execution_count": 93,
      "outputs": [
        {
          "output_type": "execute_result",
          "data": {
            "text/plain": [
              "tensor([0.3627, 0.3627, 0.3627])"
            ]
          },
          "metadata": {
            "tags": []
          },
          "execution_count": 93
        }
      ]
    },
    {
      "cell_type": "code",
      "metadata": {
        "id": "wmhHGKYahK-a",
        "colab_type": "code",
        "colab": {}
      },
      "source": [
        "start = timer()\n",
        "inputs = load_images( glob.glob(args.input) )\n",
        "print('\\nLoaded ({0}) images of size {1}.'.format(inputs.shape[0], inputs.shape[1:]))\n",
        "duration = timer() - start\n",
        "# Compute results\n"
      ],
      "execution_count": 0,
      "outputs": []
    },
    {
      "cell_type": "code",
      "metadata": {
        "id": "VUqauq7XfzVr",
        "colab_type": "code",
        "colab": {}
      },
      "source": [
        "\n",
        "for x in range(outputs.shape[0]):\n",
        "    montage = to_multichannels(outputs[x])\n",
        "    im = Image.fromarray(np.uint8(montage*255))\n",
        "    im.save('depth/'+str(fincount)+'.jpeg')\n",
        "    fincount +=1\n"
      ],
      "execution_count": 0,
      "outputs": []
    },
    {
      "cell_type": "code",
      "metadata": {
        "id": "xPFJMfDPe6q6",
        "colab_type": "code",
        "colab": {}
      },
      "source": [
        "outputs = predict(model, inputs,batch_size=100)\n",
        "for x in range(outputs.shape[0]):\n",
        "    montage = to_multichannels(outputs[x])\n",
        "    im = Image.fromarray(np.uint8(montage*255))\n",
        "    im.save('depth/'+str(fincount)+'.jpeg')\n",
        "    fincount +=1\n"
      ],
      "execution_count": 0,
      "outputs": []
    },
    {
      "cell_type": "code",
      "metadata": {
        "id": "Ux4-2Gi7WBzu",
        "colab_type": "code",
        "colab": {}
      },
      "source": [
        "import os\n",
        "for x in range(400000):\n",
        "    myfile = 'mask_fg_bg/'+str(x)+'.jpeg'\n",
        "    if os.path.isfile(myfile):\n",
        "        os.remove(myfile)"
      ],
      "execution_count": 0,
      "outputs": []
    },
    {
      "cell_type": "code",
      "metadata": {
        "id": "xkV1vOUasfFe",
        "colab_type": "code",
        "outputId": "71b4a266-8f38-4c7d-8965-7ab7b0b5660a",
        "colab": {
          "base_uri": "https://localhost:8080/",
          "height": 34
        }
      },
      "source": [
        "outputs.shape"
      ],
      "execution_count": 0,
      "outputs": [
        {
          "output_type": "execute_result",
          "data": {
            "text/plain": [
              "(4000, 112, 112, 1)"
            ]
          },
          "metadata": {
            "tags": []
          },
          "execution_count": 63
        }
      ]
    },
    {
      "cell_type": "code",
      "metadata": {
        "id": "ErsHhFmGTDfx",
        "colab_type": "code",
        "colab": {}
      },
      "source": [
        "for x in range(4):\n",
        "    montage = to_multichannels(outputs[x])\n",
        "    im = Image.fromarray(np.uint8(montage*255))\n",
        "    im.save('depth/'+str(fincount)+'.jpeg')\n",
        "    fincount +=1\n"
      ],
      "execution_count": 0,
      "outputs": []
    },
    {
      "cell_type": "code",
      "metadata": {
        "id": "FvCrS5gi5tzE",
        "colab_type": "code",
        "colab": {}
      },
      "source": [
        "outputs = predict(model, inputs,batch_size=10)\n",
        "\n",
        "#matplotlib problem on ubuntu terminal fix\n",
        "#matplotlib.use('TkAgg')   \n",
        "\n",
        "# Display results\n",
        "viz = display_images(outputs.copy(), inputs.copy())\n",
        "plt.figure(figsize=(10,5))\n",
        "plt.imshow(viz)\n",
        "plt.savefig('test.png')\n",
        "plt.show()\n"
      ],
      "execution_count": 0,
      "outputs": []
    },
    {
      "cell_type": "code",
      "metadata": {
        "id": "okzZUGPlry7R",
        "colab_type": "code",
        "colab": {}
      },
      "source": [
        "to_multichannels(outputs[0])"
      ],
      "execution_count": 0,
      "outputs": []
    },
    {
      "cell_type": "code",
      "metadata": {
        "id": "KEc1YN38sLuO",
        "colab_type": "code",
        "colab": {}
      },
      "source": [
        "montage = to_multichannels(outputs[0])\n",
        "im = Image.fromarray(np.uint8(montage*255))\n",
        "im.save('testdata.jpg')\n"
      ],
      "execution_count": 0,
      "outputs": []
    }
  ]
}